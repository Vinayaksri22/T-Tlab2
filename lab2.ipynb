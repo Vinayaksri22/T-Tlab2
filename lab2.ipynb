{
 "cells": [
  {
   "cell_type": "code",
   "execution_count": 1,
   "id": "0061659d-8f90-4acd-80fb-0b1cab43b6e0",
   "metadata": {},
   "outputs": [
    {
     "data": {
      "text/plain": [
       "int"
      ]
     },
     "execution_count": 1,
     "metadata": {},
     "output_type": "execute_result"
    }
   ],
   "source": [
    "type(500)"
   ]
  },
  {
   "cell_type": "code",
   "execution_count": 2,
   "id": "abc9be3d-ffa4-4360-baf8-612942881c98",
   "metadata": {},
   "outputs": [
    {
     "data": {
      "text/plain": [
       "str"
      ]
     },
     "execution_count": 2,
     "metadata": {},
     "output_type": "execute_result"
    }
   ],
   "source": [
    "type(\"heloo\")"
   ]
  },
  {
   "cell_type": "code",
   "execution_count": 3,
   "id": "c84f3337-a697-47f7-9c09-e3b9ee99ea9f",
   "metadata": {},
   "outputs": [
    {
     "data": {
      "text/plain": [
       "3"
      ]
     },
     "execution_count": 3,
     "metadata": {},
     "output_type": "execute_result"
    }
   ],
   "source": [
    "int(3.9)\n"
   ]
  },
  {
   "cell_type": "code",
   "execution_count": 6,
   "id": "ed03cc8a-35ca-4792-8288-26910c5782ac",
   "metadata": {},
   "outputs": [
    {
     "data": {
      "text/plain": [
       "2"
      ]
     },
     "execution_count": 6,
     "metadata": {},
     "output_type": "execute_result"
    }
   ],
   "source": [
    "int(2.3)"
   ]
  },
  {
   "cell_type": "code",
   "execution_count": 7,
   "id": "5a19b1fc-53c0-4626-9f20-fe4fc433206d",
   "metadata": {},
   "outputs": [
    {
     "ename": "SyntaxError",
     "evalue": "invalid syntax (1368299801.py, line 1)",
     "output_type": "error",
     "traceback": [
      "\u001b[1;36m  Cell \u001b[1;32mIn[7], line 1\u001b[1;36m\u001b[0m\n\u001b[1;33m    print(in 5 years what will be your age 'age+5')\u001b[0m\n\u001b[1;37m          ^\u001b[0m\n\u001b[1;31mSyntaxError\u001b[0m\u001b[1;31m:\u001b[0m invalid syntax\n"
     ]
    }
   ],
   "source": [
    "print(in 5 years what will be your age 'age+5')"
   ]
  },
  {
   "cell_type": "code",
   "execution_count": null,
   "id": "9bfa7049-55c7-43b2-85b0-8ce93b596f93",
   "metadata": {},
   "outputs": [],
   "source": []
  },
  {
   "cell_type": "code",
   "execution_count": 8,
   "id": "062b1be0-5ddc-4f96-bc0b-859fc0c52862",
   "metadata": {},
   "outputs": [
    {
     "ename": "ValueError",
     "evalue": "too many values to unpack (expected 3)",
     "output_type": "error",
     "traceback": [
      "\u001b[1;31m---------------------------------------------------------------------------\u001b[0m",
      "\u001b[1;31mValueError\u001b[0m                                Traceback (most recent call last)",
      "Cell \u001b[1;32mIn[8], line 1\u001b[0m\n\u001b[1;32m----> 1\u001b[0m a,y,z\u001b[38;5;241m=\u001b[39m\u001b[38;5;124m\"\u001b[39m\u001b[38;5;124morange\u001b[39m\u001b[38;5;124m\"\u001b[39m\n\u001b[0;32m      2\u001b[0m \u001b[38;5;28mprint\u001b[39m(x)\n\u001b[0;32m      3\u001b[0m \u001b[38;5;28mprint\u001b[39m(y)\n",
      "\u001b[1;31mValueError\u001b[0m: too many values to unpack (expected 3)"
     ]
    }
   ],
   "source": [
    "a,y,z=\"orange\"\n",
    "print(x)\n",
    "print(y)\n",
    "print(z)"
   ]
  },
  {
   "cell_type": "code",
   "execution_count": 9,
   "id": "77ae1cdf-27cf-447a-aec5-90a6265d7958",
   "metadata": {},
   "outputs": [
    {
     "ename": "ValueError",
     "evalue": "too many values to unpack (expected 3)",
     "output_type": "error",
     "traceback": [
      "\u001b[1;31m---------------------------------------------------------------------------\u001b[0m",
      "\u001b[1;31mValueError\u001b[0m                                Traceback (most recent call last)",
      "Cell \u001b[1;32mIn[9], line 1\u001b[0m\n\u001b[1;32m----> 1\u001b[0m x,y,z\u001b[38;5;241m=\u001b[39m\u001b[38;5;124m\"\u001b[39m\u001b[38;5;124morange\u001b[39m\u001b[38;5;124m\"\u001b[39m\n\u001b[0;32m      2\u001b[0m \u001b[38;5;28mprint\u001b[39m(x)\n\u001b[0;32m      3\u001b[0m \u001b[38;5;28mprint\u001b[39m(y)\n",
      "\u001b[1;31mValueError\u001b[0m: too many values to unpack (expected 3)"
     ]
    }
   ],
   "source": [
    "x,y,z=\"orange\"\n",
    "print(x)\n",
    "print(y)\n",
    "print(z)"
   ]
  },
  {
   "cell_type": "code",
   "execution_count": 10,
   "id": "63f31f02-3a90-4a52-b68a-ceecd2be33ee",
   "metadata": {},
   "outputs": [
    {
     "name": "stdout",
     "output_type": "stream",
     "text": [
      "python is awesome\n"
     ]
    }
   ],
   "source": [
    "x=\"python\"\n",
    "y=\"is\"\n",
    "z=\"awesome\"\n",
    "print(x,y,z)"
   ]
  },
  {
   "cell_type": "code",
   "execution_count": 11,
   "id": "12a488f3-e843-48a0-9d78-647adb27ac1a",
   "metadata": {},
   "outputs": [
    {
     "name": "stdout",
     "output_type": "stream",
     "text": [
      "pythonisawesome\n"
     ]
    }
   ],
   "source": [
    "x=\"python\"\n",
    "y=\"is\"\n",
    "z=\"awesome\"\n",
    "print(x+y+z)"
   ]
  },
  {
   "cell_type": "code",
   "execution_count": 12,
   "id": "a94b93c9-357a-43b4-9dc5-ae28dd89c6d9",
   "metadata": {},
   "outputs": [
    {
     "name": "stdout",
     "output_type": "stream",
     "text": [
      "5 vinayak\n"
     ]
    }
   ],
   "source": [
    "x=5\n",
    "y=\"vinayak\"\n",
    "print(x,y)"
   ]
  },
  {
   "cell_type": "code",
   "execution_count": 13,
   "id": "c2fefcf5-01ad-45c6-9d44-2f9e8e8d6f81",
   "metadata": {},
   "outputs": [],
   "source": [
    "x=\"function\"\n",
    "\n",
    "def myfunc():\n",
    "    print(\"python is\"+x)"
   ]
  },
  {
   "cell_type": "code",
   "execution_count": 14,
   "id": "ed3d3c38-82e5-4f4a-bf15-c48658eb1f90",
   "metadata": {},
   "outputs": [],
   "source": [
    "x=\"awesome\"\n",
    "def myfunc():\n",
    "    print(\"python is\"+x)"
   ]
  },
  {
   "cell_type": "code",
   "execution_count": 15,
   "id": "d682546d-fd55-4ad8-a9ba-b9a87bbbe0c4",
   "metadata": {},
   "outputs": [
    {
     "name": "stdout",
     "output_type": "stream",
     "text": [
      "my name is vinayak\n",
      "i m a student\n",
      "who are you\n"
     ]
    }
   ],
   "source": [
    "a=\"\"\"my name is vinayak\n",
    "i m a student\n",
    "who are you\"\"\"\n",
    "\n",
    "print(a)"
   ]
  },
  {
   "cell_type": "code",
   "execution_count": 16,
   "id": "54f3ab23-050b-40ea-9d3d-8069d9c12e57",
   "metadata": {},
   "outputs": [
    {
     "name": "stdout",
     "output_type": "stream",
     "text": [
      "llo\n"
     ]
    }
   ],
   "source": [
    "b=\"hello\"\n",
    "print(b[2:5])"
   ]
  },
  {
   "cell_type": "code",
   "execution_count": 17,
   "id": "ffdffa8f-167f-4c7a-8878-426377902539",
   "metadata": {},
   "outputs": [
    {
     "name": "stdout",
     "output_type": "stream",
     "text": [
      "hello\n"
     ]
    }
   ],
   "source": [
    "b=\"hello\"\n",
    "print(b[:5])"
   ]
  },
  {
   "cell_type": "code",
   "execution_count": 18,
   "id": "fbc68493-bf5b-4169-a860-102ddb3f11b0",
   "metadata": {},
   "outputs": [
    {
     "name": "stdout",
     "output_type": "stream",
     "text": [
      "ello,world\n"
     ]
    }
   ],
   "source": [
    "b=\"hello,world\"\n",
    "print(b[1:])"
   ]
  },
  {
   "cell_type": "code",
   "execution_count": null,
   "id": "becbfdda-1e0c-481f-94ff-681ad4366f94",
   "metadata": {},
   "outputs": [],
   "source": []
  },
  {
   "cell_type": "code",
   "execution_count": 19,
   "id": "5dc5cf06-b12e-471f-9199-a0cdaf7782fc",
   "metadata": {},
   "outputs": [
    {
     "name": "stdout",
     "output_type": "stream",
     "text": [
      "wor\n"
     ]
    }
   ],
   "source": [
    "a=\"hello,world\"\n",
    "print(a[-5:-2])"
   ]
  },
  {
   "cell_type": "code",
   "execution_count": 20,
   "id": "aadedbc2-8e83-4e57-b565-1bcf2fb13f58",
   "metadata": {},
   "outputs": [
    {
     "name": "stdout",
     "output_type": "stream",
     "text": [
      "orl\n"
     ]
    }
   ],
   "source": [
    "a=\"hello,world!\"\n",
    "print(a[-5:-2])"
   ]
  },
  {
   "cell_type": "code",
   "execution_count": 21,
   "id": "7b9f14f2-25de-4ee1-ab86-2404bea37c52",
   "metadata": {},
   "outputs": [
    {
     "name": "stdout",
     "output_type": "stream",
     "text": [
      "helloworld\n"
     ]
    }
   ],
   "source": [
    "a=\"hello\"\n",
    "b=\"world\"\n",
    "print(a+b)"
   ]
  },
  {
   "cell_type": "code",
   "execution_count": 22,
   "id": "3feccce6-bc6d-4b89-9f6d-91760febfbe9",
   "metadata": {},
   "outputs": [
    {
     "data": {
      "text/plain": [
       "0.0012283640424343943"
      ]
     },
     "execution_count": 22,
     "metadata": {},
     "output_type": "execute_result"
    }
   ],
   "source": [
    "22/9/1990"
   ]
  },
  {
   "cell_type": "code",
   "execution_count": 23,
   "id": "f26dcaa0-802a-42f4-a483-5fc0ecd73061",
   "metadata": {},
   "outputs": [
    {
     "name": "stdout",
     "output_type": "stream",
     "text": [
      "my nmae is vinayak and i am {} age\n"
     ]
    }
   ],
   "source": [
    "age=36\n",
    "txt=\"my nmae is vinayak and i am {}\"\n",
    "print(txt,\"age\")"
   ]
  },
  {
   "cell_type": "code",
   "execution_count": 24,
   "id": "a158f52d-7546-4d68-b7be-52c1c9e32773",
   "metadata": {},
   "outputs": [
    {
     "name": "stdout",
     "output_type": "stream",
     "text": [
      "my nmae is vinayak and i am {} 36\n"
     ]
    }
   ],
   "source": [
    "age=36\n",
    "txt=\"my nmae is vinayak and i am {}\"\n",
    "print(txt,age)"
   ]
  },
  {
   "cell_type": "code",
   "execution_count": 25,
   "id": "3460a528-4593-4c5a-8231-dc34f47fc7d4",
   "metadata": {},
   "outputs": [
    {
     "ename": "SyntaxError",
     "evalue": "invalid syntax. Perhaps you forgot a comma? (3906818001.py, line 3)",
     "output_type": "error",
     "traceback": [
      "\u001b[1;36m  Cell \u001b[1;32mIn[25], line 3\u001b[1;36m\u001b[0m\n\u001b[1;33m    print(txt,age{})\u001b[0m\n\u001b[1;37m              ^\u001b[0m\n\u001b[1;31mSyntaxError\u001b[0m\u001b[1;31m:\u001b[0m invalid syntax. Perhaps you forgot a comma?\n"
     ]
    }
   ],
   "source": [
    "age=36\n",
    "txt=\"my nmae is vinayak and i am {}\"\n",
    "print(txt,age{})"
   ]
  },
  {
   "cell_type": "code",
   "execution_count": 26,
   "id": "45c3b0c4-1d4f-478f-b08f-f0adc3de8d13",
   "metadata": {},
   "outputs": [
    {
     "ename": "SyntaxError",
     "evalue": "invalid syntax (2251360170.py, line 2)",
     "output_type": "error",
     "traceback": [
      "\u001b[1;36m  Cell \u001b[1;32mIn[26], line 2\u001b[1;36m\u001b[0m\n\u001b[1;33m    txt=\"my nmae is vinayak and i am\" {}\u001b[0m\n\u001b[1;37m                                      ^\u001b[0m\n\u001b[1;31mSyntaxError\u001b[0m\u001b[1;31m:\u001b[0m invalid syntax\n"
     ]
    }
   ],
   "source": [
    "age=36\n",
    "txt=\"my nmae is vinayak and i am\" {}\n",
    "print(txt,\"age\")"
   ]
  },
  {
   "cell_type": "code",
   "execution_count": 27,
   "id": "260acc94-ea56-4436-8a53-cdda5f99cec6",
   "metadata": {},
   "outputs": [
    {
     "name": "stdout",
     "output_type": "stream",
     "text": [
      "my nmae is vinayak and i am {} {}\n"
     ]
    }
   ],
   "source": [
    "age=36\n",
    "txt=\"my nmae is vinayak and i am {}\"\n",
    "print(txt,{})"
   ]
  },
  {
   "cell_type": "code",
   "execution_count": 28,
   "id": "01770f62-69f9-4d96-b386-48818da7edbf",
   "metadata": {},
   "outputs": [
    {
     "name": "stdout",
     "output_type": "stream",
     "text": [
      "my nmae is vinayak and i am {} {}\n"
     ]
    }
   ],
   "source": [
    "age=36\n",
    "txt=\"my nmae is vinayak and i am {}\"\n",
    "print(txt,\"{}\")"
   ]
  },
  {
   "cell_type": "code",
   "execution_count": 29,
   "id": "c2456f9b-fff5-44e4-a14a-df0b91be4b7b",
   "metadata": {},
   "outputs": [
    {
     "name": "stdout",
     "output_type": "stream",
     "text": [
      "True\n",
      "False\n"
     ]
    }
   ],
   "source": [
    "print(10>9)\n",
    "print(10==9)"
   ]
  },
  {
   "cell_type": "code",
   "execution_count": 30,
   "id": "5c9a8216-a2b1-4b9c-b013-2e56ffff2201",
   "metadata": {},
   "outputs": [
    {
     "name": "stdout",
     "output_type": "stream",
     "text": [
      "True\n"
     ]
    }
   ],
   "source": [
    "x=3000\n",
    "print(isinstance(x,int))"
   ]
  },
  {
   "cell_type": "code",
   "execution_count": 36,
   "id": "43c1984c-3596-4931-81bf-0a8ccc4b5b4e",
   "metadata": {},
   "outputs": [
    {
     "name": "stdout",
     "output_type": "stream",
     "text": [
      "5 6\n"
     ]
    }
   ],
   "source": [
    "a=5\n",
    "b=6\n",
    "print(a,b)"
   ]
  },
  {
   "cell_type": "code",
   "execution_count": 37,
   "id": "313a323a-8fd2-4841-ad79-a0a8460ed5d7",
   "metadata": {},
   "outputs": [
    {
     "name": "stdout",
     "output_type": "stream",
     "text": [
      "<class 'type'>\n"
     ]
    }
   ],
   "source": [
    "a=5\n",
    "b=6\n",
    "print(type)"
   ]
  },
  {
   "cell_type": "code",
   "execution_count": 38,
   "id": "bd231caa-a478-4f56-8e8f-2e90e6b94919",
   "metadata": {},
   "outputs": [
    {
     "name": "stdout",
     "output_type": "stream",
     "text": [
      "type\n"
     ]
    }
   ],
   "source": [
    "a=5\n",
    "b=6\n",
    "print('type')"
   ]
  },
  {
   "cell_type": "code",
   "execution_count": 40,
   "id": "91fae61b-0464-4e8a-9f71-c12aa6e700d4",
   "metadata": {},
   "outputs": [
    {
     "data": {
      "text/plain": [
       "<function dir>"
      ]
     },
     "execution_count": 40,
     "metadata": {},
     "output_type": "execute_result"
    }
   ],
   "source": [
    "dir\n"
   ]
  },
  {
   "cell_type": "code",
   "execution_count": 41,
   "id": "94c97c58-6fa1-48e5-8fa5-11e63a86f106",
   "metadata": {},
   "outputs": [
    {
     "ename": "SyntaxError",
     "evalue": "invalid syntax (1455622387.py, line 1)",
     "output_type": "error",
     "traceback": [
      "\u001b[1;36m  Cell \u001b[1;32mIn[41], line 1\u001b[1;36m\u001b[0m\n\u001b[1;33m    integer variable = 89\u001b[0m\n\u001b[1;37m            ^\u001b[0m\n\u001b[1;31mSyntaxError\u001b[0m\u001b[1;31m:\u001b[0m invalid syntax\n"
     ]
    }
   ],
   "source": [
    "integer variable = 89\n",
    "float variable = 99.0\n",
    "string variable = \"hello\"\n",
    "print(\"integer variable\")\n",
    "print(\"float variable\")\n",
    "print(\"string variable\")\n"
   ]
  },
  {
   "cell_type": "code",
   "execution_count": 42,
   "id": "f87651f7-2504-417c-8a06-1e4fc427d471",
   "metadata": {},
   "outputs": [
    {
     "name": "stdout",
     "output_type": "stream",
     "text": [
      "integer variable\n",
      "float variable\n",
      "string variable\n"
     ]
    }
   ],
   "source": [
    "integer_variable = 89\n",
    "float_variable = 99.0\n",
    "string_variable = \"hello\"\n",
    "print(\"integer variable\")\n",
    "print(\"float variable\")\n",
    "print(\"string variable\")\n"
   ]
  },
  {
   "cell_type": "code",
   "execution_count": 43,
   "id": "b89813be-d34d-41d9-aeac-e12ecb105450",
   "metadata": {},
   "outputs": [
    {
     "name": "stdout",
     "output_type": "stream",
     "text": [
      "integer variable 89\n",
      "float variable 99.0\n",
      "string variable hello\n"
     ]
    }
   ],
   "source": [
    "integer_variable = 89\n",
    "float_variable = 99.0\n",
    "string_variable = \"hello\"\n",
    "print(\"integer variable\",integer_variable)\n",
    "print(\"float variable\",float_variable)\n",
    "print(\"string variable\",string_variable)\n"
   ]
  },
  {
   "cell_type": "code",
   "execution_count": 44,
   "id": "08a798a6-dfe5-4354-bf32-764021161334",
   "metadata": {},
   "outputs": [
    {
     "name": "stdout",
     "output_type": "stream",
     "text": [
      "integer variable 89\n",
      "float variable 99.0\n",
      "string variable hello\n",
      "/nall variables:\n"
     ]
    }
   ],
   "source": [
    "integer_variable = 89\n",
    "float_variable = 99.0\n",
    "string_variable = \"hello\"\n",
    "print(\"integer variable\",integer_variable)\n",
    "print(\"float variable\",float_variable)\n",
    "print(\"string variable\",string_variable)\n",
    "print(\"/nall variables:\")"
   ]
  },
  {
   "cell_type": "code",
   "execution_count": 45,
   "id": "46daa828-2538-44f9-9a0a-74737f9ab782",
   "metadata": {},
   "outputs": [
    {
     "name": "stdout",
     "output_type": "stream",
     "text": [
      "integer variable 89\n",
      "float variable 99.0\n",
      "string variable hello\n",
      "\n",
      "all variables:\n"
     ]
    }
   ],
   "source": [
    "integer_variable = 89\n",
    "float_variable = 99.0\n",
    "string_variable = \"hello\"\n",
    "print(\"integer variable\",integer_variable)\n",
    "print(\"float variable\",float_variable)\n",
    "print(\"string variable\",string_variable)\n",
    "print(\"\\nall variables:\")"
   ]
  },
  {
   "cell_type": "code",
   "execution_count": 46,
   "id": "f692b27d-9029-44ce-a726-0e569f25c0b2",
   "metadata": {},
   "outputs": [
    {
     "name": "stdout",
     "output_type": "stream",
     "text": [
      "integer variable 89\n",
      "float variable 99.0\n",
      "string variable hello\n",
      "/nall variables:\n",
      "integer variable: 89\n"
     ]
    }
   ],
   "source": [
    "integer_variable = 89\n",
    "float_variable = 99.0\n",
    "string_variable = \"hello\"\n",
    "print(\"integer variable\",integer_variable)\n",
    "print(\"float variable\",float_variable)\n",
    "print(\"string variable\",string_variable)\n",
    "print(\"/nall variables:\")\n",
    "print(f\"integer variable: {integer_variable}\")"
   ]
  },
  {
   "cell_type": "code",
   "execution_count": 47,
   "id": "98591e0b-0ccb-402e-963f-8b67f6537dac",
   "metadata": {},
   "outputs": [
    {
     "name": "stdout",
     "output_type": "stream",
     "text": [
      "integer variable 89\n",
      "float variable 99.0\n",
      "string variable hello\n",
      "/nall variables:\n",
      "integer variable: {integer_variable}\n"
     ]
    }
   ],
   "source": [
    "integer_variable = 89\n",
    "float_variable = 99.0\n",
    "string_variable = \"hello\"\n",
    "print(\"integer variable\",integer_variable)\n",
    "print(\"float variable\",float_variable)\n",
    "print(\"string variable\",string_variable)\n",
    "print(\"/nall variables:\")\n",
    "print(\"integer variable: {integer_variable}\")"
   ]
  },
  {
   "cell_type": "code",
   "execution_count": 48,
   "id": "80886cde-455e-4813-8835-001a1c2f8bfa",
   "metadata": {},
   "outputs": [
    {
     "name": "stdout",
     "output_type": "stream",
     "text": [
      "integer variable 89\n",
      "float variable 99.0\n",
      "string variable hello\n",
      "/nall variables:\n",
      "integer variable: 89\n",
      "float variable,99.0\n",
      "string variable,hello\n"
     ]
    }
   ],
   "source": [
    "integer_variable = 89\n",
    "float_variable = 99.0\n",
    "string_variable = \"hello\"\n",
    "print(\"integer variable\",integer_variable)\n",
    "print(\"float variable\",float_variable)\n",
    "print(\"string variable\",string_variable)\n",
    "print(\"/nall variables:\")\n",
    "print(f\"integer variable: {integer_variable}\")\n",
    "print(f\"float variable,{float_variable}\")\n",
    "print(f\"string variable,{string_variable}\")"
   ]
  },
  {
   "cell_type": "code",
   "execution_count": 49,
   "id": "3b1c1df8-9808-4739-8ca1-296f943464b7",
   "metadata": {},
   "outputs": [
    {
     "name": "stdout",
     "output_type": "stream",
     "text": [
      "integer variable 89\n",
      "float variable 99.0\n",
      "string variable hello\n",
      "integer variable: 89\n",
      "float variable,99.0\n",
      "string variable,hello\n"
     ]
    }
   ],
   "source": [
    "integer_variable = 89\n",
    "float_variable = 99.0\n",
    "string_variable = \"hello\"\n",
    "print(\"integer variable\",integer_variable)\n",
    "print(\"float variable\",float_variable)\n",
    "print(\"string variable\",string_variable)\n",
    "print(f\"integer variable: {integer_variable}\")\n",
    "print(f\"float variable,{float_variable}\")\n",
    "print(f\"string variable,{string_variable}\")"
   ]
  },
  {
   "cell_type": "code",
   "execution_count": 50,
   "id": "49f92e0e-43a4-42f4-8bb4-7f2ba1b81f64",
   "metadata": {},
   "outputs": [
    {
     "name": "stdout",
     "output_type": "stream",
     "text": [
      "integer variable 89\n",
      "float variable 99.0\n",
      "string variable hello\n",
      "\n",
      "all variables:\n",
      "integer variable: 89\n",
      "float variable,99.0\n",
      "string variable,hello\n"
     ]
    }
   ],
   "source": [
    "integer_variable = 89\n",
    "float_variable = 99.0\n",
    "string_variable = \"hello\"\n",
    "print(\"integer variable\",integer_variable)\n",
    "print(\"float variable\",float_variable)\n",
    "print(\"string variable\",string_variable)\n",
    "print(\"\\nall variables:\")\n",
    "print(f\"integer variable: {integer_variable}\")\n",
    "print(f\"float variable,{float_variable}\")\n",
    "print(f\"string variable,{string_variable}\")"
   ]
  },
  {
   "cell_type": "code",
   "execution_count": 51,
   "id": "6c4f6ef0-1dbb-4e4f-8a30-d81d978a1e15",
   "metadata": {},
   "outputs": [
    {
     "name": "stdout",
     "output_type": "stream",
     "text": [
      "<class 'int'>\n"
     ]
    }
   ],
   "source": [
    "x = 89\n",
    "y= 99.0\n",
    "z = \"hello\"\n",
    "print(type(x))"
   ]
  },
  {
   "cell_type": "code",
   "execution_count": 52,
   "id": "caaf0bbc-3749-4d37-8eaf-cdc986ce1db7",
   "metadata": {},
   "outputs": [
    {
     "name": "stdout",
     "output_type": "stream",
     "text": [
      "x 89\n",
      "y 99.0\n",
      "z hello\n",
      "\n",
      "all variables:\n",
      "x: 89\n",
      "y,99.0\n",
      "z,hello\n"
     ]
    }
   ],
   "source": [
    "x = 89\n",
    "y = 99.0\n",
    "z = \"hello\"\n",
    "print(\"x\",integer_variable)\n",
    "print(\"y\",float_variable)\n",
    "print(\"z\",string_variable)\n",
    "print(\"\\nall variables:\")\n",
    "print(f\"x: {integer_variable}\")\n",
    "print(f\"y:{float_variable}\")\n",
    "print(f\"z:{string_variable}\")\n"
   ]
  },
  {
   "cell_type": "code",
   "execution_count": 53,
   "id": "938bd15c-9bfe-4336-a6f7-e95e3f0dc914",
   "metadata": {},
   "outputs": [
    {
     "name": "stdout",
     "output_type": "stream",
     "text": [
      "x 89\n",
      "y 99.0\n",
      "z hello\n",
      "\n",
      "all variables:\n",
      "x: 89\n",
      "y:99.0\n",
      "z:hello\n"
     ]
    }
   ],
   "source": [
    "x = 89\n",
    "y = 99.0\n",
    "z = \"hello\"\n",
    "print(\"x\",integer_variable)\n",
    "print(\"y\",float_variable)\n",
    "print(\"z\",string_variable)\n",
    "print(\"\\nall variables:\")\n",
    "print(f\"x: {integer_variable}\")\n",
    "print(f\"y:{float_variable}\")\n",
    "print(f\"z:{string_variable}\")"
   ]
  },
  {
   "cell_type": "code",
   "execution_count": 54,
   "id": "4a608811-defa-4044-86e6-b24dfcc2d4cb",
   "metadata": {},
   "outputs": [
    {
     "name": "stdout",
     "output_type": "stream",
     "text": [
      "x\n",
      "y\n",
      "z\n",
      "\n",
      "all variables:\n",
      "89 99.0 hello\n"
     ]
    }
   ],
   "source": [
    "x = 89\n",
    "y = 99.0\n",
    "z = \"hello\"\n",
    "print(\"x\")\n",
    "print(\"y\")\n",
    "print(\"z\")\n",
    "print(\"\\nall variables:\")\n",
    "print(x,y,z)"
   ]
  },
  {
   "cell_type": "code",
   "execution_count": 56,
   "id": "d5c55042-9947-4ad3-8151-3f98af8f5679",
   "metadata": {},
   "outputs": [
    {
     "name": "stdout",
     "output_type": "stream",
     "text": [
      "x\n",
      "y\n",
      "z\n",
      "\n",
      "all variables:\n",
      "89 99.0 hello\n",
      "<class 'int'>\n"
     ]
    }
   ],
   "source": [
    "x = 89\n",
    "y = 99.0\n",
    "z = \"hello\"\n",
    "print(\"x\")\n",
    "print(\"y\")\n",
    "print(\"z\")\n",
    "print(\"\\nall variables:\")\n",
    "print(x,y,z)\n",
    "print(type(x))"
   ]
  },
  {
   "cell_type": "code",
   "execution_count": 57,
   "id": "4e24bcea-18e2-4118-997f-1e627fb2c773",
   "metadata": {},
   "outputs": [
    {
     "name": "stdout",
     "output_type": "stream",
     "text": [
      "x\n",
      "y\n",
      "z\n",
      "\n",
      "all variables:\n",
      "89 99.0 hello\n",
      "<class 'int'>\n",
      "<class 'float'>\n",
      "<class 'str'>\n"
     ]
    }
   ],
   "source": [
    "x = 89\n",
    "y = 99.0\n",
    "z = \"hello\"\n",
    "print(\"x\")\n",
    "print(\"y\")\n",
    "print(\"z\")\n",
    "print(\"\\nall variables:\")\n",
    "print(x,y,z)\n",
    "print(type(x))\n",
    "print(type(y))\n",
    "print(type(z))"
   ]
  },
  {
   "cell_type": "code",
   "execution_count": 58,
   "id": "fb459972-4592-4696-b3d9-ae830eb1d678",
   "metadata": {},
   "outputs": [
    {
     "name": "stdout",
     "output_type": "stream",
     "text": [
      "89\n",
      "y\n",
      "z\n",
      "\n",
      "all variables:\n",
      "89 99.0 hello\n",
      "<class 'int'>\n",
      "<class 'float'>\n",
      "<class 'str'>\n"
     ]
    }
   ],
   "source": [
    "x = 89\n",
    "y = 99.0\n",
    "z = \"hello\"\n",
    "print(x)\n",
    "print(\"y\")\n",
    "print(\"z\")\n",
    "print(\"\\nall variables:\")\n",
    "print(x,y,z)\n",
    "print(type(x))\n",
    "print(type(y))\n",
    "print(type(z))"
   ]
  },
  {
   "cell_type": "code",
   "execution_count": 59,
   "id": "72aab438-35d5-49b2-9d32-f0f64dbdc1e4",
   "metadata": {},
   "outputs": [
    {
     "name": "stdout",
     "output_type": "stream",
     "text": [
      "89\n",
      "99.0\n",
      "hello\n",
      "\n",
      "all variables:\n",
      "89 99.0 hello\n",
      "<class 'int'>\n",
      "<class 'float'>\n",
      "<class 'str'>\n"
     ]
    }
   ],
   "source": [
    "x = 89\n",
    "y = 99.0\n",
    "z = \"hello\"\n",
    "print(x)\n",
    "print(y)\n",
    "print(z)\n",
    "print(\"\\nall variables:\")\n",
    "print(x,y,z)\n",
    "print(type(x))\n",
    "print(type(y))\n",
    "print(type(z))"
   ]
  },
  {
   "cell_type": "code",
   "execution_count": 60,
   "id": "549a158e-bea4-4ef4-811b-ce239c284e45",
   "metadata": {},
   "outputs": [
    {
     "name": "stdout",
     "output_type": "stream",
     "text": [
      "89\n",
      "99.0\n",
      "hello\n",
      "\n",
      "all variables:\n",
      "89 99.0 hello\n",
      "<class 'int'>\n",
      "<class 'float'>\n",
      "<class 'str'>\n"
     ]
    },
    {
     "ename": "NameError",
     "evalue": "name 'x' is not defined",
     "output_type": "error",
     "traceback": [
      "\u001b[1;31m---------------------------------------------------------------------------\u001b[0m",
      "\u001b[1;31mNameError\u001b[0m                                 Traceback (most recent call last)",
      "Cell \u001b[1;32mIn[60], line 13\u001b[0m\n\u001b[0;32m     11\u001b[0m \u001b[38;5;28mprint\u001b[39m(\u001b[38;5;28mtype\u001b[39m(z))\n\u001b[0;32m     12\u001b[0m \u001b[38;5;28;01mdel\u001b[39;00m (x)\n\u001b[1;32m---> 13\u001b[0m \u001b[38;5;28mprint\u001b[39m(\u001b[43mx\u001b[49m)\n",
      "\u001b[1;31mNameError\u001b[0m: name 'x' is not defined"
     ]
    }
   ],
   "source": [
    "x = 89\n",
    "y = 99.0\n",
    "z = \"hello\"\n",
    "print(x)\n",
    "print(y)\n",
    "print(z)\n",
    "print(\"\\nall variables:\")\n",
    "print(x,y,z)\n",
    "print(type(x))\n",
    "print(type(y))\n",
    "print(type(z))\n",
    "del (x)\n",
    "print(x)"
   ]
  },
  {
   "cell_type": "code",
   "execution_count": 61,
   "id": "73cfbe8e-2a0d-4b12-8f3c-d75c2aef7485",
   "metadata": {},
   "outputs": [
    {
     "name": "stdout",
     "output_type": "stream",
     "text": [
      "89\n",
      "99.0\n",
      "hello\n",
      "\n",
      "all variables:\n",
      "89 99.0 hello\n",
      "<class 'int'>\n",
      "<class 'float'>\n",
      "<class 'str'>\n"
     ]
    },
    {
     "ename": "NameError",
     "evalue": "name 'x' is not defined",
     "output_type": "error",
     "traceback": [
      "\u001b[1;31m---------------------------------------------------------------------------\u001b[0m",
      "\u001b[1;31mNameError\u001b[0m                                 Traceback (most recent call last)",
      "Cell \u001b[1;32mIn[61], line 13\u001b[0m\n\u001b[0;32m     11\u001b[0m \u001b[38;5;28mprint\u001b[39m(\u001b[38;5;28mtype\u001b[39m(z))\n\u001b[0;32m     12\u001b[0m \u001b[38;5;28;01mdel\u001b[39;00m(x)\n\u001b[1;32m---> 13\u001b[0m \u001b[38;5;28mprint\u001b[39m(\u001b[43mx\u001b[49m)\n",
      "\u001b[1;31mNameError\u001b[0m: name 'x' is not defined"
     ]
    }
   ],
   "source": [
    "#Q1\n",
    "x = 89\n",
    "y = 99.0\n",
    "z = \"hello\"\n",
    "print(x)\n",
    "print(y)\n",
    "print(z)\n",
    "print(\"\\nall variables:\")\n",
    "print(x,y,z)\n",
    "print(type(x))\n",
    "print(type(y))\n",
    "print(type(z))\n",
    "del(x)\n",
    "print(x)"
   ]
  },
  {
   "cell_type": "code",
   "execution_count": 62,
   "id": "422bba84-48f4-4e4d-af2a-fa103bd19269",
   "metadata": {},
   "outputs": [
    {
     "name": "stdout",
     "output_type": "stream",
     "text": [
      "the first digit is: 2\n",
      "last digit is: 4\n"
     ]
    }
   ],
   "source": [
    "#Q2\n",
    "a=2354\n",
    "print(\"the first digit is:\",int(a/1000))\n",
    "print(\"last digit is:\",a%10)"
   ]
  },
  {
   "cell_type": "code",
   "execution_count": 78,
   "id": "1ae5ae93-5cd3-4879-b773-5f1145da50bd",
   "metadata": {},
   "outputs": [
    {
     "name": "stdout",
     "output_type": "stream",
     "text": [
      "Srivastava Vinayak\n"
     ]
    }
   ],
   "source": [
    "#Q3\n",
    "a=\"Vinayak\"\n",
    "b=\"Srivastava\"\n",
    "print(b+\" \"+a)"
   ]
  },
  {
   "cell_type": "code",
   "execution_count": 80,
   "id": "5841de2e-73b5-44ea-be3a-dbec0020ebc2",
   "metadata": {},
   "outputs": [
    {
     "name": "stdout",
     "output_type": "stream",
     "text": [
      "45 56\n",
      "140705126039352\n",
      "140705126039704\n"
     ]
    }
   ],
   "source": [
    "#Q4\n",
    "a=45\n",
    "b=56\n",
    "print(a,b)\n",
    "print(id(a))\n",
    "print(id(b))"
   ]
  },
  {
   "cell_type": "code",
   "execution_count": 83,
   "id": "6008b0f5-d696-4829-a892-26c24e832ac4",
   "metadata": {},
   "outputs": [
    {
     "name": "stdout",
     "output_type": "stream",
     "text": [
      "floating point division result:2.32\n",
      "int division result:2\n"
     ]
    }
   ],
   "source": [
    "#Q5\n",
    "a=580\n",
    "b=250\n",
    "result_float=a/b\n",
    "result_int=a//b\n",
    "print(f\"floating point division result:{result_float}\")\n",
    "print(f\"int division result:{result_int}\")"
   ]
  },
  {
   "cell_type": "code",
   "execution_count": 86,
   "id": "7168caaa-e7fe-4484-9577-78df99517fe9",
   "metadata": {},
   "outputs": [
    {
     "name": "stdout",
     "output_type": "stream",
     "text": [
      "My name is Vinayak Srivastava I am a Student\n",
      "I am a Student My name is Vinayak Srivastava\n"
     ]
    }
   ],
   "source": [
    "#Q6\n",
    "a=\"My name is Vinayak Srivastava\"\n",
    "b=\"I am a Student\"\n",
    "print(a,b)\n",
    "print(b,a)"
   ]
  },
  {
   "cell_type": "code",
   "execution_count": 87,
   "id": "beab6bec-13aa-47e3-a399-8e5d8608718b",
   "metadata": {},
   "outputs": [
    {
     "name": "stdin",
     "output_type": "stream",
     "text": [
      "enter the element to check- 34\n"
     ]
    },
    {
     "name": "stdout",
     "output_type": "stream",
     "text": [
      "The element is not available\n"
     ]
    }
   ],
   "source": [
    "#Q7\n",
    "a=[1,2,3,4,5]\n",
    "check_ele=input(\"enter the element to check-\")\n",
    "for i in a:\n",
    "    if i==check_ele:\n",
    "        print(\"The element is available!\")\n",
    "        break\n",
    "\n",
    "else:\n",
    "    print(\"The element is not available\")"
   ]
  },
  {
   "cell_type": "code",
   "execution_count": 35,
   "id": "9adaf2a6-af43-4a30-8075-88045ef62b13",
   "metadata": {},
   "outputs": [
    {
     "name": "stdout",
     "output_type": "stream",
     "text": [
      "True\n"
     ]
    }
   ],
   "source": [
    "#Q7\n",
    "x=(\"apple\",\"banana\")\n",
    "print(\"pineapple\"not in x)"
   ]
  },
  {
   "cell_type": "code",
   "execution_count": 2,
   "id": "bc9744bb-5c70-4aa2-a640-5705e503aee9",
   "metadata": {},
   "outputs": [
    {
     "name": "stdin",
     "output_type": "stream",
     "text": [
      "Enter x1:  3\n",
      "Enter y1:  4\n",
      "Enter x2:  2\n",
      "Enter y2:  5\n"
     ]
    },
    {
     "name": "stdout",
     "output_type": "stream",
     "text": [
      "Distance = 1.414214\n"
     ]
    }
   ],
   "source": [
    "#Q8\n",
    "x1 = float(input('Enter x1: '))\n",
    "y1 = float(input('Enter y1: '))\n",
    "x2 = float(input('Enter x2: '))\n",
    "y2 = float(input('Enter y2: '))\n",
    "\n",
    "d = ( (x2-x1)**2 + (y2-y1)**2 ) ** 0.5\n",
    "\n",
    "print('Distance = %f' %(d))"
   ]
  },
  {
   "cell_type": "code",
   "execution_count": null,
   "id": "89fc13e6-a9fa-414c-a0da-7cb8fa6e0981",
   "metadata": {},
   "outputs": [],
   "source": []
  }
 ],
 "metadata": {
  "kernelspec": {
   "display_name": "Python 3 (ipykernel)",
   "language": "python",
   "name": "python3"
  },
  "language_info": {
   "codemirror_mode": {
    "name": "ipython",
    "version": 3
   },
   "file_extension": ".py",
   "mimetype": "text/x-python",
   "name": "python",
   "nbconvert_exporter": "python",
   "pygments_lexer": "ipython3",
   "version": "3.12.1"
  }
 },
 "nbformat": 4,
 "nbformat_minor": 5
}
